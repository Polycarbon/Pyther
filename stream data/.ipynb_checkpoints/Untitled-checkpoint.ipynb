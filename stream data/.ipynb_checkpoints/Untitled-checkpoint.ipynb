{
 "cells": [
  {
   "cell_type": "code",
   "execution_count": 3,
   "metadata": {},
   "outputs": [],
   "source": [
    "from Servers import  Server\n",
    "import os\n",
    "import time\n",
    "import cv2\n",
    "import pickle\n",
    "from multiprocessing import Process,Queue\n",
    "from threading import Thread\n",
    "import pandas as pd\n",
    "from pyther_model import pyther_model\n",
    "\n",
    "\n",
    "def handle(ports,queue):\n",
    "    print(ports)\n",
    "    s = Server((\"192.168.1.35\", ports),queue)\n",
    "    connection, client_address = s.getClient()\n",
    "    print(\"Process at \", os.getpid())\n",
    "    print(\"CLear\")\n",
    "\n",
    "def update_data(ql,qr):\n",
    "    colnames = ['Batt','Time',\n",
    "               'Raw-Ch1','Raw-Ch2','Raw-Ch3','Raw-Ch4','Raw-Ch5','Raw-Ch6','Raw-Ch7','Raw-Ch8',\n",
    "               'Rect-Ch0','Rect-Ch1','Rect-Ch2','Rect-Ch3','Rect-Ch4','Rect-Ch5','Rect-Ch6','Rect-Ch7',\n",
    "               'Smooth-Ch0','Smooth-Ch1','Smooth-Ch2','Smooth-Ch3','Smooth-Ch4','Smooth-Ch5','Smooth-Ch6','Smooth-Ch7',\n",
    "               'q1','q2','q3','q4',\n",
    "               'ax','ay','az',\n",
    "               'gx','gy','gz',\n",
    "               'mx','my','mz']\n",
    "    feature_select = ['Smooth-Ch0','Smooth-Ch1','Smooth-Ch2','Smooth-Ch3','Smooth-Ch4','Smooth-Ch5','Smooth-Ch6','Smooth-Ch7',\n",
    "            'q1','q2','q3','q4','ax','ay','az','gx','gy','gz']\n",
    "    dl = pd.DataFrame([],columns=colnames)\n",
    "    dr = pd.DataFrame([],columns=colnames)\n",
    "    gp = pyther_model()\n",
    "    while(True):\n",
    "        if(not ql.empty() and not qr.empty()):\n",
    "            l=ql.get()\n",
    "            if(dl.shape[0]>2000):\n",
    "                dl=dl.tail(1999)\n",
    "            dl=dl.append(pd.Series(l), index=colnames,ignore_index=True)\n",
    "            r=qr.get()\n",
    "            if(dr.shape[0]>2000):\n",
    "                dr=dr.tail\n",
    "            dr=dr.append(pd.Series(r), index=colnames,ignore_index=True)\n",
    "            print(\"audia\")\n",
    "            x = gp.preprocess(dl,dr)\n",
    "            print(x)\n",
    "            gesture = gp.predict_gesture(x)\n",
    "            print(gesture)\n",
    "            "
   ]
  },
  {
   "cell_type": "code",
   "execution_count": 4,
   "metadata": {},
   "outputs": [
    {
     "name": "stderr",
     "output_type": "stream",
     "text": [
      "Exception in thread Thread-7:\n",
      "Traceback (most recent call last):\n",
      "  File \"C:\\Users\\Denice\\Anaconda3\\envs\\tensorflow\\lib\\site-packages\\tensorflow\\python\\client\\session.py\", line 1040, in _run\n",
      "    subfeed, allow_tensor=True, allow_operation=False)\n",
      "  File \"C:\\Users\\Denice\\Anaconda3\\envs\\tensorflow\\lib\\site-packages\\tensorflow\\python\\framework\\ops.py\", line 3339, in as_graph_element\n",
      "    return self._as_graph_element_locked(obj, allow_tensor, allow_operation)\n",
      "  File \"C:\\Users\\Denice\\Anaconda3\\envs\\tensorflow\\lib\\site-packages\\tensorflow\\python\\framework\\ops.py\", line 3418, in _as_graph_element_locked\n",
      "    raise ValueError(\"Tensor %s is not an element of this graph.\" % obj)\n",
      "ValueError: Tensor Tensor(\"Placeholder:0\", shape=(3, 2000, 32), dtype=float32) is not an element of this graph.\n",
      "\n",
      "During handling of the above exception, another exception occurred:\n",
      "\n",
      "Traceback (most recent call last):\n",
      "  File \"C:\\Users\\Denice\\Anaconda3\\envs\\tensorflow\\lib\\threading.py\", line 916, in _bootstrap_inner\n",
      "    self.run()\n",
      "  File \"C:\\Users\\Denice\\Anaconda3\\envs\\tensorflow\\lib\\threading.py\", line 864, in run\n",
      "    self._target(*self._args, **self._kwargs)\n",
      "  File \"<ipython-input-3-307e859ffe15>\", line 32, in update_data\n",
      "    gp = pyther_model()\n",
      "  File \"G:\\Polycarbon\\hand Motion Clasification\\stream data\\pyther_model.py\", line 15, in __init__\n",
      "    self.model.load_weights(\"model_pyther.h5\")\n",
      "  File \"C:\\Users\\Denice\\Anaconda3\\envs\\tensorflow\\lib\\site-packages\\keras\\engine\\network.py\", line 1161, in load_weights\n",
      "    f, self.layers, reshape=reshape)\n",
      "  File \"C:\\Users\\Denice\\Anaconda3\\envs\\tensorflow\\lib\\site-packages\\keras\\engine\\saving.py\", line 928, in load_weights_from_hdf5_group\n",
      "    K.batch_set_value(weight_value_tuples)\n",
      "  File \"C:\\Users\\Denice\\Anaconda3\\envs\\tensorflow\\lib\\site-packages\\keras\\backend\\tensorflow_backend.py\", line 2440, in batch_set_value\n",
      "    get_session().run(assign_ops, feed_dict=feed_dict)\n",
      "  File \"C:\\Users\\Denice\\Anaconda3\\envs\\tensorflow\\lib\\site-packages\\tensorflow\\python\\client\\session.py\", line 877, in run\n",
      "    run_metadata_ptr)\n",
      "  File \"C:\\Users\\Denice\\Anaconda3\\envs\\tensorflow\\lib\\site-packages\\tensorflow\\python\\client\\session.py\", line 1043, in _run\n",
      "    'Cannot interpret feed_dict key as Tensor: ' + e.args[0])\n",
      "TypeError: Cannot interpret feed_dict key as Tensor: Tensor Tensor(\"Placeholder:0\", shape=(3, 2000, 32), dtype=float32) is not an element of this graph.\n",
      "\n"
     ]
    }
   ],
   "source": [
    "\n",
    "ql = Queue()\n",
    "L = Process(target=handle, args=(9000,ql))\n",
    "L.daemon = True\n",
    "L.start()\n",
    "qr = Queue()\n",
    "R = Process(target=handle, args=(9001,qr))\n",
    "R.daemon = True\n",
    "R.start()\n",
    "t = Thread(target=update_data , args=(ql,qr))\n",
    "t.start()\n",
    "R.join()\n",
    "L.join()"
   ]
  },
  {
   "cell_type": "code",
   "execution_count": null,
   "metadata": {},
   "outputs": [],
   "source": []
  }
 ],
 "metadata": {
  "kernelspec": {
   "display_name": "Python 3",
   "language": "python",
   "name": "python3"
  },
  "language_info": {
   "codemirror_mode": {
    "name": "ipython",
    "version": 3
   },
   "file_extension": ".py",
   "mimetype": "text/x-python",
   "name": "python",
   "nbconvert_exporter": "python",
   "pygments_lexer": "ipython3",
   "version": "3.6.6"
  }
 },
 "nbformat": 4,
 "nbformat_minor": 2
}
