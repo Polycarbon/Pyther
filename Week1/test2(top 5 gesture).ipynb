{
 "cells": [
  {
   "cell_type": "code",
   "execution_count": 1,
   "metadata": {},
   "outputs": [
    {
     "name": "stderr",
     "output_type": "stream",
     "text": [
      "Using TensorFlow backend.\n"
     ]
    }
   ],
   "source": [
    "import pandas as pd\n",
    "import numpy as np\n",
    "import re\n",
    "import matplotlib.pyplot as plt\n",
    "import os\n",
    "from scipy.linalg import circulant\n",
    "from numpy import linalg as LA\n",
    "import preprocess as pr\n",
    "from keras.preprocessing import sequence\n",
    "import keras\n",
    "from keras.models import Sequential,Model\n",
    "from keras.layers import Dense,Input,Conv1D,MaxPooling1D,Flatten,LSTM,Dropout,BatchNormalization,Activation,Concatenate\n",
    "\n",
    "from keras.preprocessing import sequence\n",
    "import re"
   ]
  },
  {
   "cell_type": "code",
   "execution_count": 2,
   "metadata": {},
   "outputs": [],
   "source": [
    "os.chdir(\"/Polycarbon/hand Motion Clasification\")"
   ]
  },
  {
   "cell_type": "code",
   "execution_count": 5,
   "metadata": {},
   "outputs": [],
   "source": [
    "class_num = [1,5,6,9,10,14,15]"
   ]
  },
  {
   "cell_type": "code",
   "execution_count": 3,
   "metadata": {
    "scrolled": true
   },
   "outputs": [
    {
     "name": "stdout",
     "output_type": "stream",
     "text": [
      "success 0/105 :Buntean\n"
     ]
    },
    {
     "name": "stderr",
     "output_type": "stream",
     "text": [
      "C:\\Users\\Denice\\Anaconda3\\envs\\tensorflow\\lib\\site-packages\\numpy\\core\\fromnumeric.py:2957: RuntimeWarning: Mean of empty slice.\n",
      "  out=out, **kwargs)\n",
      "C:\\Users\\Denice\\Anaconda3\\envs\\tensorflow\\lib\\site-packages\\numpy\\core\\_methods.py:80: RuntimeWarning: invalid value encountered in double_scalars\n",
      "  ret = ret.dtype.type(ret / rcount)\n"
     ]
    },
    {
     "name": "stdout",
     "output_type": "stream",
     "text": [
      "success 1/105 :Buntra\n",
      "success 2/105 :Charuves_Krasaerot\n",
      "success 3/105 :Chatri\n",
      "success 4/105 :Donsatid\n",
      "success 5/105 :Duangporn\n",
      "success 6/105 :Duenpen\n",
      "success 7/105 :dusid\n",
      "success 8/105 :Jamroen\n",
      "success 9/105 :Jamroen_Murangkerd\n"
     ]
    }
   ],
   "source": [
    "def read_in_folder(folder_path,gesture_name):\n",
    "    x=[]\n",
    "    y=[]\n",
    "    for file in os.listdir(folder_path):\n",
    "        if( \"-L-\" in file): \n",
    "            L_hand_file=  folder_path +\"/\"+file\n",
    "            R_hand_file=  folder_path +\"/\"+ re.sub(r\"-L-\",\"-R-\",file)\n",
    "            dL=pr.read_emg(L_hand_file).dropna().astype(float)\n",
    "            dR=pr.read_emg(R_hand_file).dropna().astype(float)\n",
    "            if(gesture_name!=\"1\"):\n",
    "                if(dL.Time.size>900):\n",
    "                    T1 =  pr.find_active_time(dL.Time,dL.loc[:,['gx','gy','gz']])\n",
    "                    T2 =  pr.find_active_time(dR.Time,dR.loc[:,['gx','gy','gz']])\n",
    "                    if (len(T1)==2):\n",
    "                        T = (np.array(T1)+np.array(T2))/2\n",
    "                        Lhand = dL[dL.Time>=T[0]].T.values[1:]\n",
    "                        Rhand = dR[dR.Time>=T[0]].T.values[1:]\n",
    "                        x.append([Lhand,Rhand])\n",
    "                        y.append(gesture_name)\n",
    "            else:\n",
    "                Lhand = dL.T.values[1:]\n",
    "                Rhand = dR.T.values[1:]\n",
    "                x.append([Lhand,Rhand])\n",
    "                y.append(gesture_name)\n",
    "            #print(\"success :\"+L_hand_file+\"__\"+R_hand_file)\n",
    "    return x,y\n",
    "\n",
    "x = []\n",
    "y = []\n",
    "for n,sample in enumerate(os.listdir(\"Data/\")[10:20]):\n",
    "    if(os.path.isdir(\"Data/\"+sample) and sample!=\".ipynb_checkpoints\"):\n",
    "        for i in range(1,16):\n",
    "            filename = \"M\"+str(i)+\"-\"+sample  \n",
    "            if len(os.listdir(\"Data/\"+sample+\"/\"+filename))==2:\n",
    "                for fd in os.listdir(\"Data/\"+sample+\"/\"+filename):\n",
    "                    filepath=\"Data/\"+sample+\"/\"+filename+\"/\"+fd+\"/\"\n",
    "                    u,v = read_in_folder(filepath,str(i)+fd.lower())\n",
    "                    x.extend(u)\n",
    "                    y.extend(v)\n",
    "            else:\n",
    "                filepath=\"Data/\"+sample+\"/\"+filename\n",
    "                u,v = read_in_folder(filepath,str(i))\n",
    "                x.extend(u)\n",
    "                y.extend(v)\n",
    "    print(\"success \"+str(n)+\"/105 \"+\":\"+sample)"
   ]
  },
  {
   "cell_type": "code",
   "execution_count": 4,
   "metadata": {},
   "outputs": [],
   "source": [
    "y=np.array(y)"
   ]
  },
  {
   "cell_type": "code",
   "execution_count": 5,
   "metadata": {},
   "outputs": [],
   "source": [
    "y=np.array(y)\n",
    "y[y==\"14left\"]=\"14l\"\n",
    "y[y==\"15left\"]=\"15l\"\n",
    "y[y==\"14right\"]=\"14r\"\n",
    "y[y==\"15right\"]=\"15r\""
   ]
  },
  {
   "cell_type": "code",
   "execution_count": 6,
   "metadata": {},
   "outputs": [],
   "source": [
    "from sklearn import preprocessing\n",
    "encoder = preprocessing.LabelEncoder()\n",
    "encoder.fit(y)\n",
    "ye = encoder.transform(y)"
   ]
  },
  {
   "cell_type": "code",
   "execution_count": 7,
   "metadata": {},
   "outputs": [
    {
     "data": {
      "text/plain": [
       "array(['1', '10', '11', '12', '13', '14l', '14r', '15l', '15r', '2', '3',\n",
       "       '4', '5', '6', '7', '8', '9'], dtype='<U3')"
      ]
     },
     "execution_count": 7,
     "metadata": {},
     "output_type": "execute_result"
    }
   ],
   "source": [
    "encoder.classes_"
   ]
  },
  {
   "cell_type": "markdown",
   "metadata": {},
   "source": [
    "# Histogram of window lenght "
   ]
  },
  {
   "cell_type": "code",
   "execution_count": 8,
   "metadata": {},
   "outputs": [],
   "source": [
    "lenghts = [len(x[i][0][0]) for i in range(len(x))]\n",
    "x=[x[i] for i,l in enumerate(lenghts) if(l>900 and l<3000)]\n",
    "ye=[ye[i] for i,l in enumerate(lenghts) if(l>900 and l<3000)]"
   ]
  },
  {
   "cell_type": "code",
   "execution_count": 9,
   "metadata": {},
   "outputs": [
    {
     "data": {
      "image/png": "[encoded data removed]",
      "text/plain": [
       "<Figure size 432x288 with 1 Axes>"
      ]
     },
     "metadata": {},
     "output_type": "display_data"
    }
   ],
   "source": [
    "\n",
    "v = [len(x[i][0][0]) for i in range(len(x))]\n",
    "# the histogram of the data\n",
    "n, bins, patches = plt.hist(v, 30, density=False, facecolor='g', alpha=0.75)\n",
    "\n",
    "mu = np.std(v)\n",
    "sigma = np.average(v)\n",
    "plt.xlabel('time lenght')\n",
    "plt.ylabel('Probability')\n",
    "plt.title('Histogram of time lenght')\n",
    "# plt.text(500, 150, r'$\\mu='+str(np.trunc(mu))+',\\ \\sigma='+str(np.trunc(sigma))+'$')0\n",
    "plt.grid(True)\n",
    "plt.show()"
   ]
  },
  {
   "cell_type": "markdown",
   "metadata": {},
   "source": [
    "# build model function"
   ]
  },
  {
   "cell_type": "code",
   "execution_count": 10,
   "metadata": {},
   "outputs": [],
   "source": [
    "def build_model(window_length,feature_length):\n",
    "    input_signal = Input(shape=(feature_length,window_length),name=\"input_signal\")\n",
    "    x = Conv1D(filters=32, kernel_size=3,activation='relu', padding='same')(input_signal)\n",
    "    x = MaxPooling1D(2, padding='same')(x)\n",
    "    x = Conv1D(filters=16, kernel_size=200,activation='relu', padding='same')(x)\n",
    "    x = MaxPooling1D(2, padding='same')(x)\n",
    "    x = Conv1D(filters=8, kernel_size=200,activation='relu', padding='same')(x)\n",
    "    x = MaxPooling1D(2, padding='same')(x)\n",
    "#     x = LSTM(100, return_sequences=False)(x)\n",
    "#     x = Dropout(0.5)(x)\n",
    "    x = Flatten()(x)\n",
    "\n",
    "\n",
    "    x = Dense(output_dim = 80, init = 'uniform', activation = 'relu')(x)\n",
    "    dense_out = Dense(17, activation=\"sigmoid\" ,name =\"output_Dense\")(x)\n",
    "    \n",
    "    model=Model(inputs=[input_signal], outputs=[dense_out])\n",
    "        \n",
    "    model.compile(loss='categorical_crossentropy', optimizer='adam', metrics=['accuracy'])\n",
    "    return model\n",
    "\n",
    "def build_model2(window_length,feature_length):\n",
    "    input_signal = Input(shape=(feature_length,window_length),name=\"input_signal\")\n",
    "    x = LSTM(100, return_sequences=False)( input_signal)\n",
    "    \n",
    "    x = Dropout(0.5)(x)\n",
    "\n",
    "    x = Dense(output_dim = 80, init = 'uniform', activation = 'relu')(x)\n",
    "    dense_out = Dense(9, activation=\"sigmoid\" ,name =\"output_Dense\")(x)\n",
    "    \n",
    "    model=Model(inputs=[input_signal], outputs=[dense_out])\n",
    "        \n",
    "    model.compile(loss='categorical_crossentropy', optimizer='adam', metrics=['accuracy'])\n",
    "    return model"
   ]
  },
  {
   "cell_type": "code",
   "execution_count": 158,
   "metadata": {},
   "outputs": [
    {
     "data": {
      "text/plain": [
       "30"
      ]
     },
     "execution_count": 158,
     "metadata": {},
     "output_type": "execute_result"
    }
   ],
   "source": [
    "len(x[0][0])"
   ]
  },
  {
   "cell_type": "code",
   "execution_count": 11,
   "metadata": {},
   "outputs": [],
   "source": [
    "# #normalize\n",
    "# g=np.array([normalize(x[0]) for i in range(len(y))])\n",
    "#padding\n",
    "XL=np.array([sequence.pad_sequences(b[0], padding=\"post\",maxlen=2000,dtype='float64')for b in x])\n",
    "XR=np.array([sequence.pad_sequences(b[1], padding=\"post\",maxlen=2000,dtype='float64')for b in x])"
   ]
  },
  {
   "cell_type": "code",
   "execution_count": 20,
   "metadata": {},
   "outputs": [],
   "source": [
    "X =np.concatenate((XL[:,16:], XR[:,16:]), axis=1)\n"
   ]
  },
  {
   "cell_type": "code",
   "execution_count": 13,
   "metadata": {},
   "outputs": [],
   "source": [
    "ye=np.array(ye)"
   ]
  },
  {
   "cell_type": "code",
   "execution_count": 27,
   "metadata": {},
   "outputs": [],
   "source": [
    "from sklearn.preprocessing import normalize\n",
    "for gt in range(encoder.classes_.size):\n",
    "    for ch in range(len(X[0])):      \n",
    "        X[ye==gt][:,ch] = normalize(X[ye==gt][:,ch])"
   ]
  },
  {
   "cell_type": "code",
   "execution_count": 27,
   "metadata": {},
   "outputs": [
    {
     "data": {
      "text/plain": [
       "(20, 2000)"
      ]
     },
     "execution_count": 27,
     "metadata": {},
     "output_type": "execute_result"
    }
   ],
   "source": [
    "#ye = np.array(ye)\n",
    "X[ye==1][:,0].shape"
   ]
  },
  {
   "cell_type": "markdown",
   "metadata": {},
   "source": [
    "# feature Selection"
   ]
  },
  {
   "cell_type": "markdown",
   "metadata": {},
   "source": [
    "['Smooth-Ch0','Smooth-Ch1','Smooth-Ch2','Smooth-Ch3','Smooth-Ch4','Smooth-Ch5','Smooth-Ch6','Smooth-Ch7','ax','ay','az','gx','gy','gz']"
   ]
  },
  {
   "cell_type": "code",
   "execution_count": 34,
   "metadata": {
    "scrolled": true
   },
   "outputs": [
    {
     "name": "stderr",
     "output_type": "stream",
     "text": [
      "C:\\Users\\Denice\\Anaconda3\\envs\\tensorflow\\lib\\site-packages\\ipykernel_launcher.py:14: UserWarning: Update your `Dense` call to the Keras 2 API: `Dense(activation=\"relu\", units=80, kernel_initializer=\"uniform\")`\n",
      "  \n",
      "C:\\Users\\Denice\\Anaconda3\\envs\\tensorflow\\lib\\site-packages\\ipykernel_launcher.py:5: UserWarning: The `nb_epoch` argument in `fit` has been renamed `epochs`.\n",
      "  \"\"\"\n"
     ]
    },
    {
     "name": "stdout",
     "output_type": "stream",
     "text": [
      "Epoch 1/100\n",
      "1078/1078 [==============================] - 1s 1ms/step - loss: 2.8431 - acc: 0.0603\n",
      "Epoch 2/100\n",
      "1078/1078 [==============================] - 1s 500us/step - loss: 2.8083 - acc: 0.0538\n",
      "Epoch 3/100\n",
      "1078/1078 [==============================] - 1s 499us/step - loss: 2.7769 - acc: 0.1095\n",
      "Epoch 4/100\n",
      "1078/1078 [==============================] - 1s 502us/step - loss: 2.7266 - acc: 0.1568\n",
      "Epoch 5/100\n",
      "1078/1078 [==============================] - 1s 513us/step - loss: 2.6593 - acc: 0.1475\n",
      "Epoch 6/100\n",
      "1078/1078 [==============================] - 1s 522us/step - loss: 2.5485 - acc: 0.1818\n",
      "Epoch 7/100\n",
      "1078/1078 [==============================] - 1s 507us/step - loss: 2.3900 - acc: 0.2644\n",
      "Epoch 8/100\n",
      "1078/1078 [==============================] - 1s 501us/step - loss: 2.2645 - acc: 0.2746\n",
      "Epoch 9/100\n",
      "1078/1078 [==============================] - 1s 501us/step - loss: 2.0698 - acc: 0.3173\n",
      "Epoch 10/100\n",
      "1078/1078 [==============================] - 1s 504us/step - loss: 1.8952 - acc: 0.3646\n",
      "Epoch 11/100\n",
      "1078/1078 [==============================] - 1s 512us/step - loss: 1.7323 - acc: 0.3961\n",
      "Epoch 12/100\n",
      "1078/1078 [==============================] - 1s 501us/step - loss: 1.5576 - acc: 0.4833\n",
      "Epoch 13/100\n",
      "1078/1078 [==============================] - 1s 509us/step - loss: 1.4664 - acc: 0.5056\n",
      "Epoch 14/100\n",
      "1078/1078 [==============================] - 1s 513us/step - loss: 1.2651 - acc: 0.5863\n",
      "Epoch 15/100\n",
      "1078/1078 [==============================] - 1s 516us/step - loss: 1.2409 - acc: 0.5798\n",
      "Epoch 16/100\n",
      "1078/1078 [==============================] - 1s 501us/step - loss: 1.1211 - acc: 0.6540\n",
      "Epoch 17/100\n",
      "1078/1078 [==============================] - 1s 498us/step - loss: 0.9639 - acc: 0.6818\n",
      "Epoch 18/100\n",
      "1078/1078 [==============================] - 1s 508us/step - loss: 0.9014 - acc: 0.7078\n",
      "Epoch 19/100\n",
      "1078/1078 [==============================] - 1s 505us/step - loss: 0.7292 - acc: 0.7829\n",
      "Epoch 20/100\n",
      "1078/1078 [==============================] - 1s 508us/step - loss: 0.6938 - acc: 0.7792\n",
      "Epoch 21/100\n",
      "1078/1078 [==============================] - 1s 501us/step - loss: 0.6109 - acc: 0.8145\n",
      "Epoch 22/100\n",
      "1078/1078 [==============================] - 1s 512us/step - loss: 0.5499 - acc: 0.8275\n",
      "Epoch 23/100\n",
      "1078/1078 [==============================] - 1s 504us/step - loss: 0.5090 - acc: 0.8265\n",
      "Epoch 24/100\n",
      "1078/1078 [==============================] - 1s 511us/step - loss: 0.4518 - acc: 0.8683\n",
      "Epoch 25/100\n",
      "1078/1078 [==============================] - 1s 507us/step - loss: 0.3848 - acc: 0.8822\n",
      "Epoch 26/100\n",
      "1078/1078 [==============================] - 1s 497us/step - loss: 0.3423 - acc: 0.8998\n",
      "Epoch 27/100\n",
      "1078/1078 [==============================] - 1s 505us/step - loss: 0.3125 - acc: 0.9054\n",
      "Epoch 28/100\n",
      "1078/1078 [==============================] - 1s 503us/step - loss: 0.3190 - acc: 0.9045\n",
      "Epoch 29/100\n",
      "1078/1078 [==============================] - 1s 507us/step - loss: 0.2552 - acc: 0.9249\n",
      "Epoch 30/100\n",
      "1078/1078 [==============================] - 1s 497us/step - loss: 0.2501 - acc: 0.9267\n",
      "Epoch 31/100\n",
      "1078/1078 [==============================] - 1s 496us/step - loss: 0.2401 - acc: 0.9314\n",
      "Epoch 32/100\n",
      "1078/1078 [==============================] - 1s 506us/step - loss: 0.2106 - acc: 0.9555\n",
      "Epoch 33/100\n",
      "1078/1078 [==============================] - 1s 502us/step - loss: 0.1717 - acc: 0.9545\n",
      "Epoch 34/100\n",
      "1078/1078 [==============================] - 1s 505us/step - loss: 0.1575 - acc: 0.9610\n",
      "Epoch 35/100\n",
      "1078/1078 [==============================] - 1s 503us/step - loss: 0.1372 - acc: 0.9675\n",
      "Epoch 36/100\n",
      "1078/1078 [==============================] - 1s 502us/step - loss: 0.1099 - acc: 0.9787\n",
      "Epoch 37/100\n",
      "1078/1078 [==============================] - 1s 505us/step - loss: 0.1274 - acc: 0.9694\n",
      "Epoch 38/100\n",
      "1078/1078 [==============================] - 1s 509us/step - loss: 0.1142 - acc: 0.9712\n",
      "Epoch 39/100\n",
      "1078/1078 [==============================] - 1s 498us/step - loss: 0.1178 - acc: 0.9694\n",
      "Epoch 40/100\n",
      "1078/1078 [==============================] - 1s 505us/step - loss: 0.1118 - acc: 0.9675\n",
      "Epoch 41/100\n",
      "1078/1078 [==============================] - 1s 498us/step - loss: 0.0991 - acc: 0.9750\n",
      "Epoch 42/100\n",
      "1078/1078 [==============================] - 1s 499us/step - loss: 0.1159 - acc: 0.9685\n",
      "Epoch 43/100\n",
      "1078/1078 [==============================] - 1s 517us/step - loss: 0.1214 - acc: 0.9601\n",
      "Epoch 44/100\n",
      "1078/1078 [==============================] - 1s 543us/step - loss: 0.1404 - acc: 0.9610\n",
      "Epoch 45/100\n",
      "1078/1078 [==============================] - 1s 494us/step - loss: 0.1370 - acc: 0.9657\n",
      "Epoch 46/100\n",
      "1078/1078 [==============================] - 1s 502us/step - loss: 0.0854 - acc: 0.9777\n",
      "Epoch 47/100\n",
      "1078/1078 [==============================] - 1s 499us/step - loss: 0.1094 - acc: 0.9750\n",
      "Epoch 48/100\n",
      "1078/1078 [==============================] - 1s 498us/step - loss: 0.1110 - acc: 0.9694\n",
      "Epoch 49/100\n",
      "1078/1078 [==============================] - 1s 509us/step - loss: 0.0868 - acc: 0.9814\n",
      "Epoch 50/100\n",
      "1078/1078 [==============================] - 1s 497us/step - loss: 0.0674 - acc: 0.9861\n",
      "Epoch 51/100\n",
      "1078/1078 [==============================] - 1s 509us/step - loss: 0.0660 - acc: 0.9898\n",
      "Epoch 52/100\n",
      "1078/1078 [==============================] - 1s 497us/step - loss: 0.1489 - acc: 0.9610\n",
      "Epoch 53/100\n",
      "1078/1078 [==============================] - 1s 507us/step - loss: 0.1424 - acc: 0.9657\n",
      "Epoch 54/100\n",
      "1078/1078 [==============================] - 1s 498us/step - loss: 0.0968 - acc: 0.9731\n",
      "Epoch 55/100\n",
      "1078/1078 [==============================] - 1s 501us/step - loss: 0.0740 - acc: 0.9787\n",
      "Epoch 56/100\n",
      "1078/1078 [==============================] - 1s 500us/step - loss: 0.0981 - acc: 0.9750\n",
      "Epoch 57/100\n",
      "1078/1078 [==============================] - 1s 511us/step - loss: 0.0737 - acc: 0.9796\n",
      "Epoch 58/100\n",
      "1078/1078 [==============================] - 1s 504us/step - loss: 0.0996 - acc: 0.9712\n",
      "Epoch 59/100\n",
      "1078/1078 [==============================] - 1s 502us/step - loss: 0.1242 - acc: 0.9629\n",
      "Epoch 60/100\n",
      "1078/1078 [==============================] - 1s 507us/step - loss: 0.0699 - acc: 0.9824\n",
      "Epoch 61/100\n",
      "1078/1078 [==============================] - 1s 502us/step - loss: 0.0695 - acc: 0.9824\n",
      "Epoch 62/100\n",
      "1078/1078 [==============================] - 1s 519us/step - loss: 0.0789 - acc: 0.9759\n",
      "Epoch 63/100\n",
      "1078/1078 [==============================] - 1s 509us/step - loss: 0.0722 - acc: 0.9796\n",
      "Epoch 64/100\n",
      "1078/1078 [==============================] - 1s 504us/step - loss: 0.0651 - acc: 0.9814\n",
      "Epoch 65/100\n",
      "1078/1078 [==============================] - 1s 505us/step - loss: 0.0595 - acc: 0.9842\n",
      "Epoch 66/100\n",
      "1078/1078 [==============================] - 1s 507us/step - loss: 0.1040 - acc: 0.9722\n",
      "Epoch 67/100\n",
      "1078/1078 [==============================] - 1s 506us/step - loss: 0.0634 - acc: 0.9852\n",
      "Epoch 68/100\n",
      "1078/1078 [==============================] - 1s 502us/step - loss: 0.0761 - acc: 0.9768\n",
      "Epoch 69/100\n",
      "1078/1078 [==============================] - 1s 497us/step - loss: 0.0886 - acc: 0.9796\n",
      "Epoch 70/100\n",
      "1078/1078 [==============================] - 1s 501us/step - loss: 0.1357 - acc: 0.9666\n",
      "Epoch 71/100\n",
      "1078/1078 [==============================] - 1s 502us/step - loss: 0.1524 - acc: 0.9592\n",
      "Epoch 72/100\n",
      "1078/1078 [==============================] - 1s 501us/step - loss: 0.1645 - acc: 0.9518\n",
      "Epoch 73/100\n",
      "1078/1078 [==============================] - 1s 509us/step - loss: 0.1507 - acc: 0.9360\n",
      "Epoch 74/100\n",
      "1078/1078 [==============================] - 1s 513us/step - loss: 0.1698 - acc: 0.9425\n",
      "Epoch 75/100\n",
      "1078/1078 [==============================] - 1s 504us/step - loss: 0.1993 - acc: 0.9388\n",
      "Epoch 76/100\n",
      "1078/1078 [==============================] - 1s 508us/step - loss: 0.1394 - acc: 0.9610\n",
      "Epoch 77/100\n",
      "1078/1078 [==============================] - 1s 510us/step - loss: 0.1540 - acc: 0.9564\n",
      "Epoch 78/100\n",
      "1078/1078 [==============================] - 1s 502us/step - loss: 0.1552 - acc: 0.9564\n",
      "Epoch 79/100\n",
      "1078/1078 [==============================] - 1s 501us/step - loss: 0.1100 - acc: 0.9685\n",
      "Epoch 80/100\n",
      "1078/1078 [==============================] - 1s 511us/step - loss: 0.2441 - acc: 0.9341\n",
      "Epoch 81/100\n",
      "1078/1078 [==============================] - 1s 521us/step - loss: 0.2104 - acc: 0.9360\n",
      "Epoch 82/100\n",
      "1078/1078 [==============================] - 1s 515us/step - loss: 0.1102 - acc: 0.9703\n",
      "Epoch 83/100\n",
      "1078/1078 [==============================] - 1s 512us/step - loss: 0.0704 - acc: 0.9833\n",
      "Epoch 84/100\n",
      "1078/1078 [==============================] - 1s 503us/step - loss: 0.0770 - acc: 0.9824\n",
      "Epoch 85/100\n",
      "1078/1078 [==============================] - 1s 527us/step - loss: 0.0482 - acc: 0.9898\n",
      "Epoch 86/100\n",
      "1078/1078 [==============================] - 1s 533us/step - loss: 0.0537 - acc: 0.9898\n",
      "Epoch 87/100\n",
      "1078/1078 [==============================] - 1s 546us/step - loss: 0.0275 - acc: 0.9963\n",
      "Epoch 88/100\n",
      "1078/1078 [==============================] - 1s 529us/step - loss: 0.0338 - acc: 0.9926\n",
      "Epoch 89/100\n",
      "1078/1078 [==============================] - 1s 509us/step - loss: 0.0255 - acc: 0.9954\n",
      "Epoch 90/100\n",
      "1078/1078 [==============================] - 1s 502us/step - loss: 0.0382 - acc: 0.9889\n",
      "Epoch 91/100\n",
      "1078/1078 [==============================] - 1s 511us/step - loss: 0.0130 - acc: 0.9991\n",
      "Epoch 92/100\n",
      "1078/1078 [==============================] - 1s 508us/step - loss: 0.0147 - acc: 1.0000\n",
      "Epoch 93/100\n",
      "1078/1078 [==============================] - 1s 530us/step - loss: 0.0108 - acc: 1.0000\n",
      "Epoch 94/100\n",
      "1078/1078 [==============================] - 1s 506us/step - loss: 0.0080 - acc: 1.0000\n",
      "Epoch 95/100\n",
      "1078/1078 [==============================] - 1s 498us/step - loss: 0.0073 - acc: 1.0000\n",
      "Epoch 96/100\n",
      "1078/1078 [==============================] - 1s 501us/step - loss: 0.0068 - acc: 1.0000\n",
      "Epoch 97/100\n",
      "1078/1078 [==============================] - 1s 502us/step - loss: 0.0066 - acc: 1.0000\n",
      "Epoch 98/100\n",
      "1078/1078 [==============================] - 1s 520us/step - loss: 0.0051 - acc: 1.0000\n",
      "Epoch 99/100\n",
      "1078/1078 [==============================] - 1s 500us/step - loss: 0.0041 - acc: 1.0000\n",
      "Epoch 100/100\n",
      "1078/1078 [==============================] - 1s 508us/step - loss: 0.0039 - acc: 1.0000\n"
     ]
    },
    {
     "data": {
      "text/plain": [
       "<keras.callbacks.History at 0x207f1a77cc0>"
      ]
     },
     "execution_count": 34,
     "metadata": {},
     "output_type": "execute_result"
    }
   ],
   "source": [
    "from sklearn.model_selection import train_test_split\n",
    "X_train, X_test, y_train, y_test = train_test_split( X,ye,test_size=0.2,stratify=ye)\n",
    "\n",
    "model=build_model(X.shape[2],X.shape[1])  \n",
    "model.fit(X_train, pd.get_dummies(y_train), batch_size = 500, nb_epoch = 100)\n"
   ]
  },
  {
   "cell_type": "code",
   "execution_count": null,
   "metadata": {},
   "outputs": [],
   "source": []
  },
  {
   "cell_type": "code",
   "execution_count": 35,
   "metadata": {},
   "outputs": [
    {
     "name": "stdout",
     "output_type": "stream",
     "text": [
      "270/270 [==============================] - 0s 1ms/step\n",
      "\n",
      "acc: 90.74%\n"
     ]
    }
   ],
   "source": [
    "scores = model.evaluate([X_test], pd.get_dummies(y_test))\n",
    "print(\"\\n%s: %.2f%%\" % (model.metrics_names[1], scores[1]*100))"
   ]
  },
  {
   "cell_type": "code",
   "execution_count": 19,
   "metadata": {},
   "outputs": [
    {
     "name": "stdout",
     "output_type": "stream",
     "text": [
      "Confusion matrix, without normalization\n",
      "[[16  0  0  0  0  0  0  0  0  0  0  0  0  0  0  0  0]\n",
      " [ 1 13  0  1  0  0  0  0  0  1  0  0  0  0  0  0  0]\n",
      " [ 0  0 12  0  0  0  0  0  0  2  0  0  0  0  0  1  0]\n",
      " [ 0  0  0 16  0  0  0  0  0  0  0  0  0  0  0  0  0]\n",
      " [ 0  0  1  1 11  0  0  0  0  0  0  0  0  0  1  1  0]\n",
      " [ 0  0  0  0  0 16  0  0  0  0  0  0  0  0  0  0  0]\n",
      " [ 0  0  0  1  0  0 13  0  2  0  0  0  0  0  0  0  0]\n",
      " [ 0  0  1  0  0  1  1 11  0  1  0  0  0  0  0  0  0]\n",
      " [ 0  0  0  0  0  0  1  0 16  0  0  0  0  0  0  0  0]\n",
      " [ 0  0  0  0  0  0  0  0  0 16  0  0  0  0  0  0  0]\n",
      " [ 0  0  0  0  0  0  0  0  0  1 12  0  0  0  0  1  0]\n",
      " [ 0  0  0  0  0  0  0  0  0  0  0 16  0  0  0  0  0]\n",
      " [ 0  0  0  0  0  1  0  0  0  0  0  0 15  0  0  0  0]\n",
      " [ 0  0  0  0  0  0  0  0  0  0  0  0  0 16  0  1  0]\n",
      " [ 0  0  0  0  0  0  0  0  0  0  1  0  1  0 14  0  0]\n",
      " [ 0  0  0  0  0  0  0  0  0  0  0  0  0  0  0 16  0]\n",
      " [ 0  0  0  0  0  0  0  0  0  0  0  0  0  1  0  0 16]]\n"
     ]
    },
    {
     "data": {
      "image/png": "[encoded data removed]",
      "text/plain": [
       "<Figure size 432x288 with 2 Axes>"
      ]
     },
     "metadata": {},
     "output_type": "display_data"
    },
    {
     "name": "stdout",
     "output_type": "stream",
     "text": [
      "Normalized confusion matrix\n",
      "[[1.   0.   0.   0.   0.   0.   0.   0.   0.   0.   0.   0.   0.   0.\n",
      "  0.   0.   0.  ]\n",
      " [0.06 0.81 0.   0.06 0.   0.   0.   0.   0.   0.06 0.   0.   0.   0.\n",
      "  0.   0.   0.  ]\n",
      " [0.   0.   0.8  0.   0.   0.   0.   0.   0.   0.13 0.   0.   0.   0.\n",
      "  0.   0.07 0.  ]\n",
      " [0.   0.   0.   1.   0.   0.   0.   0.   0.   0.   0.   0.   0.   0.\n",
      "  0.   0.   0.  ]\n",
      " [0.   0.   0.07 0.07 0.73 0.   0.   0.   0.   0.   0.   0.   0.   0.\n",
      "  0.07 0.07 0.  ]\n",
      " [0.   0.   0.   0.   0.   1.   0.   0.   0.   0.   0.   0.   0.   0.\n",
      "  0.   0.   0.  ]\n",
      " [0.   0.   0.   0.06 0.   0.   0.81 0.   0.12 0.   0.   0.   0.   0.\n",
      "  0.   0.   0.  ]\n",
      " [0.   0.   0.07 0.   0.   0.07 0.07 0.73 0.   0.07 0.   0.   0.   0.\n",
      "  0.   0.   0.  ]\n",
      " [0.   0.   0.   0.   0.   0.   0.06 0.   0.94 0.   0.   0.   0.   0.\n",
      "  0.   0.   0.  ]\n",
      " [0.   0.   0.   0.   0.   0.   0.   0.   0.   1.   0.   0.   0.   0.\n",
      "  0.   0.   0.  ]\n",
      " [0.   0.   0.   0.   0.   0.   0.   0.   0.   0.07 0.86 0.   0.   0.\n",
      "  0.   0.07 0.  ]\n",
      " [0.   0.   0.   0.   0.   0.   0.   0.   0.   0.   0.   1.   0.   0.\n",
      "  0.   0.   0.  ]\n",
      " [0.   0.   0.   0.   0.   0.06 0.   0.   0.   0.   0.   0.   0.94 0.\n",
      "  0.   0.   0.  ]\n",
      " [0.   0.   0.   0.   0.   0.   0.   0.   0.   0.   0.   0.   0.   0.94\n",
      "  0.   0.06 0.  ]\n",
      " [0.   0.   0.   0.   0.   0.   0.   0.   0.   0.   0.06 0.   0.06 0.\n",
      "  0.88 0.   0.  ]\n",
      " [0.   0.   0.   0.   0.   0.   0.   0.   0.   0.   0.   0.   0.   0.\n",
      "  0.   1.   0.  ]\n",
      " [0.   0.   0.   0.   0.   0.   0.   0.   0.   0.   0.   0.   0.   0.06\n",
      "  0.   0.   0.94]]\n"
     ]
    },
    {
     "data": {
      "image/png": "[encoded data removed]",
      "text/plain": [
       "<Figure size 432x288 with 2 Axes>"
      ]
     },
     "metadata": {},
     "output_type": "display_data"
    }
   ],
   "source": [
    "def get_predict(model,X):\n",
    "\n",
    "    array_p=model.predict([X])\n",
    "    predict=[np.argmax(i) for i in array_p]\n",
    "    return  np.array(predict)\n",
    "\n",
    "prd = get_predict(model,X_test)\n",
    "pr.confuse_matrix_plot(y_test,prd,encoder.classes_,title=\"confusion matrix\")"
   ]
  },
  {
   "cell_type": "code",
   "execution_count": 170,
   "metadata": {},
   "outputs": [],
   "source": [
    "x1 =  x[10][0]"
   ]
  },
  {
   "cell_type": "code",
   "execution_count": 178,
   "metadata": {},
   "outputs": [
    {
     "data": {
      "image/png": "[encoded data removed]",
      "text/plain": [
       "<Figure size 432x288 with 1 Axes>"
      ]
     },
     "metadata": {},
     "output_type": "display_data"
    },
    {
     "data": {
      "image/png": "[encoded data removed]",
      "text/plain": [
       "<Figure size 432x288 with 1 Axes>"
      ]
     },
     "metadata": {},
     "output_type": "display_data"
    },
    {
     "data": {
      "image/png": "[encoded data removed]",
      "text/plain": [
       "<Figure size 432x288 with 1 Axes>"
      ]
     },
     "metadata": {},
     "output_type": "display_data"
    }
   ],
   "source": [
    "from scipy import signal\n",
    "x1 =  x[11][0]\n",
    "plt.plot(x1[0])\n",
    "plt.show()\n",
    "plt.plot(x1[8])\n",
    "plt.show()\n",
    "y1 = signal.medfilt(x1[8],101) \n",
    "plt.plot(y1)\n",
    "plt.show()"
   ]
  },
  {
   "cell_type": "code",
   "execution_count": 198,
   "metadata": {},
   "outputs": [],
   "source": [
    "len(x1[:8])\n",
    "x1[:8]= [signal.medfilt(ch,21)  for ch in x1[:8]]           "
   ]
  },
  {
   "cell_type": "code",
   "execution_count": 202,
   "metadata": {},
   "outputs": [
    {
     "data": {
      "text/plain": [
       "(6890, 28, 1000)"
      ]
     },
     "execution_count": 202,
     "metadata": {},
     "output_type": "execute_result"
    }
   ],
   "source": [
    "X.shape"
   ]
  },
  {
   "cell_type": "code",
   "execution_count": 60,
   "metadata": {},
   "outputs": [],
   "source": [
    "from sklearn.metrics import confusion_matrix\n",
    "import itertools\n",
    "def plot_confusion_matrix(cm, classes,\n",
    "                          normalize=False,\n",
    "                          title='Confusion matrix',\n",
    "                          cmap=plt.cm.Blues):\n",
    "    if normalize:\n",
    "        cm = cm.astype('float') / cm.sum(axis=1)[:, np.newaxis]\n",
    "        print(\"Normalized confusion matrix\")\n",
    "    else:\n",
    "        print('Confusion matrix, without normalization')\n",
    "\n",
    "    print(cm)\n",
    "\n",
    "    plt.imshow(cm, interpolation='nearest', cmap=cmap)\n",
    "    plt.title(title)\n",
    "    plt.colorbar()\n",
    "    tick_marks = np.arange(len(classes))\n",
    "    plt.xticks(tick_marks, classes, rotation=45)\n",
    "    plt.yticks(tick_marks, classes)\n",
    "\n",
    "    fmt = '.2f' if normalize else 'd'\n",
    "    thresh = cm.max() / 2.\n",
    "    for i, j in itertools.product(range(cm.shape[0]), range(cm.shape[1])):\n",
    "        plt.text(j, i, format(cm[i, j], fmt),\n",
    "                 horizontalalignment=\"center\",\n",
    "                 color=\"white\" if cm[i, j] > thresh else \"black\")\n",
    "\n",
    "    plt.tight_layout()\n",
    "    plt.ylabel('True label')\n",
    "    plt.xlabel('Predicted label')\n",
    "\n",
    "\n",
    "def confuse_matrix_plot(Y,Pred,list_class,title=\"confusion matrix\"):\n",
    "    \n",
    "    # Compute confusion matrix\n",
    "    cnf_matrix = confusion_matrix(Y, Pred)\n",
    "    np.set_printoptions(precision=2)\n",
    "\n",
    "    # Plot normalized confusion matrix\n",
    "    plt.figure()\n",
    "    plot_confusion_matrix(cnf_matrix, classes=list_class, normalize=False,\n",
    "                          title=title)\n",
    "    plt.show()\n",
    "      # Plot normalized confusion matrix\n",
    "    plt.figure()\n",
    "    plot_confusion_matrix(cnf_matrix, classes=list_class, normalize=True,\n",
    "                          title=title +'(Normalized)')\n",
    "    plt.show()\n"
   ]
  }
 ],
 "metadata": {
  "kernelspec": {
   "display_name": "Python 3",
   "language": "python",
   "name": "python3"
  },
  "language_info": {
   "codemirror_mode": {
    "name": "ipython",
    "version": 3
   },
   "file_extension": ".py",
   "mimetype": "text/x-python",
   "name": "python",
   "nbconvert_exporter": "python",
   "pygments_lexer": "ipython3",
   "version": "3.6.6"
  }
 },
 "nbformat": 4,
 "nbformat_minor": 2
}
