{
 "cells": [
  {
   "cell_type": "code",
   "execution_count": 1,
   "metadata": {},
   "outputs": [
    {
     "name": "stderr",
     "output_type": "stream",
     "text": [
      "Using TensorFlow backend.\n"
     ]
    }
   ],
   "source": [
    "import pandas as pd\n",
    "import numpy as np\n",
    "import re\n",
    "import matplotlib.pyplot as plt\n",
    "import os\n",
    "from scipy.linalg import circulant\n",
    "from numpy import linalg as LA\n",
    "import preprocess as pr\n",
    "from keras.preprocessing import sequence\n",
    "import keras\n",
    "from keras.models import Sequential,Model\n",
    "from keras.layers import Dense,Input,Conv1D,MaxPooling1D,Flatten,LSTM,Dropout,BatchNormalization,Activation,Concatenate\n",
    "import hickle as hkl\n",
    "from keras.preprocessing import sequence\n",
    "import re\n",
    "from sklearn import preprocessing"
   ]
  },
  {
   "cell_type": "code",
   "execution_count": 2,
   "metadata": {},
   "outputs": [],
   "source": [
    "os.chdir(\"/Polycarbon/hand Motion Clasification\")"
   ]
  },
  {
   "cell_type": "code",
   "execution_count": 11,
   "metadata": {},
   "outputs": [
    {
     "name": "stdout",
     "output_type": "stream",
     "text": [
      "Loaded model from disk\n"
     ]
    }
   ],
   "source": [
    "from keras.models import model_from_json\n",
    "json_file = open(\"model/model_pyther-5class.json\", 'r')\n",
    "loaded_model_json = json_file.read()\n",
    "json_file.close()\n",
    "loaded_model = model_from_json(loaded_model_json)\n",
    "# load weights into new model\n",
    "loaded_model.load_weights(\"model/model_pyther-5class.h5\")\n",
    "print(\"Loaded model from disk\")\n",
    "loaded_model.compile(loss='categorical_crossentropy', optimizer='adam', metrics=['accuracy'])"
   ]
  },
  {
   "cell_type": "code",
   "execution_count": 15,
   "metadata": {},
   "outputs": [],
   "source": [
    "t=[]\n",
    "t.append(hkl.load(\"week1/test file stream/amnuayx1t0.hkl\"))\n",
    "t.append(hkl.load(\"week1/test file stream/amnuayx1t1.hkl\"))\n",
    "t.append(hkl.load(\"week1/test file stream/amnuayx1t2.hkl\"))\n",
    "t.append(hkl.load(\"week1/test file stream/amnuayx1t3.hkl\"))\n"
   ]
  },
  {
   "cell_type": "code",
   "execution_count": null,
   "metadata": {},
   "outputs": [],
   "source": []
  },
  {
   "cell_type": "code",
   "execution_count": 19,
   "metadata": {},
   "outputs": [
    {
     "name": "stdout",
     "output_type": "stream",
     "text": [
      "from stream : [[0.00064828 0.06959064 0.00066601 0.00222214 0.01130372]]\n",
      "from jupyter : [[0.00064828 0.06959064 0.00066601 0.00222214 0.01130372]]\n",
      "from stream : [[0.00064828 0.06959064 0.00066601 0.00222214 0.01130372]]\n",
      "from jupyter : [[0.00064828 0.06959064 0.00066601 0.00222214 0.01130372]]\n",
      "from stream : [[6.5533613e-04 2.0609677e-05 1.5299909e-05 1.3288067e-04 9.9606413e-01]]\n",
      "from jupyter : [[6.5533613e-04 2.0609677e-05 1.5299909e-05 1.3288067e-04 9.9606413e-01]]\n",
      "from stream : [[0.00064828 0.06959064 0.00066601 0.00222214 0.01130372]]\n",
      "from jupyter : [[0.00064828 0.06959064 0.00066601 0.00222214 0.01130372]]\n"
     ]
    }
   ],
   "source": [
    "for tt in t:\n",
    "    print(\"from stream : \" +  str(tt[\"predict\"]))\n",
    "    print(\"from jupyter : \" +  str(loaded_model.predict(tt[\"data\"])))"
   ]
  }
 ],
 "metadata": {
  "kernelspec": {
   "display_name": "Python 3",
   "language": "python",
   "name": "python3"
  },
  "language_info": {
   "codemirror_mode": {
    "name": "ipython",
    "version": 3
   },
   "file_extension": ".py",
   "mimetype": "text/x-python",
   "name": "python",
   "nbconvert_exporter": "python",
   "pygments_lexer": "ipython3",
   "version": "3.6.6"
  }
 },
 "nbformat": 4,
 "nbformat_minor": 2
}
